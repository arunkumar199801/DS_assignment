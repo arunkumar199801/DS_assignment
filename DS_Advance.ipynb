{
 "cells": [
  {
   "cell_type": "code",
   "execution_count": 9,
   "id": "e54f687a-ee6a-4c7b-8438-65a1897fd583",
   "metadata": {},
   "outputs": [
    {
     "name": "stdout",
     "output_type": "stream",
     "text": [
      "Simple way to reverse the string:- ramuK nurA\n",
      "\n",
      "\n",
      "reverse a strings by making a fucntion\n",
      "\n",
      "string without reverse:- Arun Kumar\n",
      "here is the reverse string via function:- ramuK nurA\n"
     ]
    }
   ],
   "source": [
    "# 1 Write a code to reverse a strings\n",
    "strings = 'Arun Kumar'\n",
    "reverse = strings[::-1]\n",
    "print(\"Simple way to reverse the string:-\" ,reverse )\n",
    "\n",
    "print (\"\\n\")\n",
    "\n",
    "#by making a fucntion\n",
    "print(\"reverse a strings by making a fucntion\\n\")\n",
    "def reverse_strings(strings): \n",
    "    str = strings[::-1]\n",
    "    return str\n",
    "strings = 'Arun Kumar'\n",
    "print('string without reverse:-', strings)\n",
    "print(\"here is the reverse string via function:-\", reverse_strings(strings))"
   ]
  },
  {
   "cell_type": "code",
   "execution_count": 10,
   "id": "43d72847-08a2-4010-bc4e-cd18d5d56235",
   "metadata": {},
   "outputs": [
    {
     "name": "stdout",
     "output_type": "stream",
     "text": [
      "Available string:- Arun Kumar Shrivastav\n",
      "ALL Vowels in lower and upper case:- aeiouAEIOU\n",
      "vowels value in string are:- A\n",
      "vowels value in string are:- u\n",
      "vowels value in string are:- u\n",
      "vowels value in string are:- a\n",
      "vowels value in string are:- i\n",
      "vowels value in string are:- a\n",
      "vowels value in string are:- a\n",
      "Number of vowels in strings are:- 7\n"
     ]
    }
   ],
   "source": [
    " #2 Write a Code to Count the number of vowels in a strings\n",
    "strings = \"Arun Kumar Shrivastav\"\n",
    "print('Available string:-', strings)\n",
    "vowels = 'aeiouAEIOU'\n",
    "print(\"ALL Vowels in lower and upper case:-\", vowels)\n",
    "count = 0\n",
    "for count_vowel in strings:\n",
    "    if count_vowel in vowels:\n",
    "        count += 1\n",
    "        print(\"vowels value in string are:-\", count_vowel)\n",
    "print(\"Number of vowels in strings are:-\", count)"
   ]
  },
  {
   "cell_type": "code",
   "execution_count": 14,
   "id": "e0488c3c-ec65-40f0-95d5-fa0ca32295d0",
   "metadata": {},
   "outputs": [
    {
     "name": "stdout",
     "output_type": "stream",
     "text": [
      "String  :- nittin\n",
      "String without reversing:- nittin\n",
      "String with reversing:- nittin\n",
      "String is palindrome\n"
     ]
    }
   ],
   "source": [
    "#Write a code to check if a given string in a palindrome or not.\n",
    "\n",
    "#A palindrome is a word, phrase, number, or sequence of characters that reads the same backward as forward. Here are a few examples:\n",
    "\n",
    "#Words: \"level\", \"radar\", \"civic\"\n",
    "#Phrases: \"A man, a plan, a canal, Panama!\"\n",
    "#Numbers: 121, 12321\n",
    "\n",
    "strings = 'nittin'\n",
    "print(\"String  :-\", strings)\n",
    "str1 = strings[::]\n",
    "print(\"String without reversing:-\", str1)\n",
    "str2 = strings[::-1]\n",
    "print(\"String with reversing:-\", str2)\n",
    "if str1 == str2:\n",
    "    print(\"String is palindrome\")\n",
    "else:\n",
    "    print(\"string is not a Plaindrome\")"
   ]
  },
  {
   "cell_type": "code",
   "execution_count": 19,
   "id": "f366981d-d25c-4dea-86dd-0e35f032aad0",
   "metadata": {},
   "outputs": [
    {
     "name": "stdout",
     "output_type": "stream",
     "text": [
      " first string is:- listen\n",
      " Second string is:- silent\n",
      "\"listen\" and \"silent\" are anagrams.\n",
      "\n",
      "\n",
      "another way to perform anagrams using set\n",
      "\n",
      "{'i', 't', 'n', 's', 'l', 'e'}\n",
      "{'i', 't', 'n', 's', 'l', 'e'}\n",
      "string1 and string2 are anagrams.\n"
     ]
    }
   ],
   "source": [
    "# 3:-  Write a code to check if two given strings are anagrams of each others\n",
    "\n",
    "#Anagrams are words or phrases formed by rearranging the letters of another word or phrase, using all the original letters exactly once. For example:\n",
    "\n",
    "#\"listen\" and \"silent\"\n",
    "#\"evil\" and \"vile\"\n",
    "#\"dormitory\" and \"dirty room\"\n",
    "\n",
    "string1 = 'listen'\n",
    "string2 = 'silent' \n",
    "# Remove any whitespace and convert to lowercase for accurate comparison\n",
    "string1 = string1.replace(\" \",\"\").lower()\n",
    "print(f\" first string is:- {string1}\")\n",
    "string2 = string2.replace(\" \",\"\").lower()\n",
    "print(f\" Second string is:- {string2}\")\n",
    "#checking whther the length of both the string is same if yes then it will proceed forward else write strings are not anagrams\n",
    "if len(string1)!=len(string2):\n",
    "    print(\"strings are not anagrams\")\n",
    "else:\n",
    "    # Create dictionaries to count the frequency of each character\n",
    "    char_count1 = {}\n",
    "    char_count2 = {}\n",
    "\n",
    "    # Count characters for string1\n",
    "    for char in string1:\n",
    "        if char in char_count1:\n",
    "            char_count1[char] += 1\n",
    "        else:\n",
    "            char_count1[char] = 1\n",
    "\n",
    "    # Count characters for string2\n",
    "    for char in string2:\n",
    "        if char in char_count2:\n",
    "            char_count2[char] += 1\n",
    "        else:\n",
    "            char_count2[char] = 1\n",
    "\n",
    "    # Compare the character counts\n",
    "    if char_count1 == char_count2:\n",
    "        print(f'\"{string1}\" and \"{string2}\" are anagrams.')\n",
    "    else:\n",
    "        print(f'\"{string1}\" and \"{string2}\" are not anagrams.')\n",
    "\n",
    "print('\\n')\n",
    "print('another way to perform anagrams using set\\n')\n",
    "string1 = 'listen'\n",
    "#convertig\n",
    "string1 = set(string1)\n",
    "print(string1)\n",
    "string2 = 'silent'\n",
    "string2 = set(string2)\n",
    "print(string2)\n",
    "if string1 == string2:\n",
    "     print(\"string1 and string2 are anagrams.\")\n",
    "else:\n",
    "    print(\"string1 and string2 are not anagrams.\")"
   ]
  },
  {
   "cell_type": "code",
   "execution_count": 20,
   "id": "0c63ec0c-3e0b-4419-b61d-a91afcb67c0f",
   "metadata": {},
   "outputs": [
    {
     "name": "stdout",
     "output_type": "stream",
     "text": [
      "Occurrences of \"abra\" in \"abracadabra\": [0, 7]\n"
     ]
    }
   ],
   "source": [
    "#5 \u0012 Write a code to find all occurrences of a given substring within another strings\n",
    "main_string = \"abracadabra\"\n",
    "sub_string = \"abra\"\n",
    "\n",
    "# List to store the starting indices of all occurrences\n",
    "occurrences = []\n",
    "\n",
    "# Lengths of the main string and the substring\n",
    "len_main = len(main_string)\n",
    "len_sub = len(sub_string)\n",
    "\n",
    "# Loop through the main string\n",
    "for i in range(len_main - len_sub + 1):\n",
    "    # Check if the substring matches the part of the main string starting at index i\n",
    "    if main_string[i:i+len_sub] == sub_string:\n",
    "        occurrences.append(i)\n",
    "\n",
    "# Print the result\n",
    "print(f'Occurrences of \"{sub_string}\" in \"{main_string}\": {occurrences}')"
   ]
  },
  {
   "cell_type": "code",
   "execution_count": 22,
   "id": "9bb57a9c-8e31-41ee-8fd4-fe2e18d13471",
   "metadata": {},
   "outputs": [
    {
     "name": "stdout",
     "output_type": "stream",
     "text": [
      "6a7b6n1x1n1x1n1x1n1x\n"
     ]
    }
   ],
   "source": [
    "#6 Write a code to perform basic string compression using the counts of repeated character\n",
    "string1 = \"aaaaaabbbbbbbnnnnnnxnxnxnx\"\n",
    "ch = string1[0]\n",
    "result= \"\"\n",
    "count = 0\n",
    "string1=string1 + \" \" #so that it will covered all string values\n",
    "for x in string1:\n",
    "    if x==ch:\n",
    "        count +=1\n",
    "    else:\n",
    "        result = result +str(count)+str(ch)\n",
    "        ch =x\n",
    "        count = 1\n",
    "print(result)"
   ]
  },
  {
   "cell_type": "code",
   "execution_count": 23,
   "id": "da19d35b-4d04-41dc-9479-11ede7c82e86",
   "metadata": {},
   "outputs": [
    {
     "name": "stdout",
     "output_type": "stream",
     "text": [
      "True\n"
     ]
    }
   ],
   "source": [
    "#7 : Write a code to determine if a string has all unique characters ?\n",
    "s = \"abcdef\"\n",
    "is_unique = True\n",
    "\n",
    "for i in range(len(s)):\n",
    "    for j in range(i + 1, len(s)):\n",
    "        if s[i] == s[j]:\n",
    "            is_unique = False\n",
    "            break\n",
    "    if not is_unique:\n",
    "        break\n",
    "\n",
    "print(is_unique) "
   ]
  },
  {
   "cell_type": "code",
   "execution_count": 24,
   "id": "6374ffd3-9831-4c1e-8f62-8c4fd90e724c",
   "metadata": {},
   "outputs": [
    {
     "name": "stdout",
     "output_type": "stream",
     "text": [
      "ARUN\n",
      "arun\n"
     ]
    }
   ],
   "source": [
    "#8 Convert a string into uppercase or lower case\n",
    "def upper_case(string1):\n",
    "    string1= string1.upper()\n",
    "    return string1\n",
    "def lower_case(string1):\n",
    "    string1= string1.lower()\n",
    "    return string1\n",
    "print(upper_case(\"Arun\"))\n",
    "print(lower_case(\"ARUN\"))"
   ]
  },
  {
   "cell_type": "code",
   "execution_count": 25,
   "id": "8925b594-7e77-4c96-ad3f-a7c9cb5d43f4",
   "metadata": {},
   "outputs": [
    {
     "name": "stdout",
     "output_type": "stream",
     "text": [
      "Arunkumar\n"
     ]
    }
   ],
   "source": [
    "#9 Write a code to concatenate two strings without using the + operators\n",
    "str1 = \"Arun\"\n",
    "str2 =\"kumar\"\n",
    "result = \"\"\n",
    "for char in str1:\n",
    "    result += char # Add characters from the first string to the result\n",
    "for char in str2:\n",
    "    result+=char # Add characters from the second string to the result\n",
    "print(result)"
   ]
  },
  {
   "cell_type": "code",
   "execution_count": 26,
   "id": "e685b8a5-f6c9-40b1-b925-640a952d0363",
   "metadata": {},
   "outputs": [
    {
     "name": "stdout",
     "output_type": "stream",
     "text": [
      "[1, 3, 4, 5, 8, 9, 10]\n"
     ]
    }
   ],
   "source": [
    "# 11 Write a code to remove all occurrences of a specific element from a lists\n",
    "#Example:\n",
    "\n",
    "#Given a list:\n",
    "#[1, 2, 3, 4, 2, 2, 5, 6]\n",
    "\n",
    "#And a specific element to remove:\n",
    "#2\n",
    "\n",
    "#The resulting list after removing all occurrences of 2 would be:\n",
    "#[1, 3, 4, 5, 6]\n",
    "\n",
    "list1 = [1,2,3,4,5,2,2,2,8,9,10]\n",
    "occurrence_element= 2\n",
    "list2 = []\n",
    "for item in list1:\n",
    "    if item != occurrence_element:\n",
    "        list2.append(item)\n",
    "print(list2)\n"
   ]
  },
  {
   "cell_type": "code",
   "execution_count": 27,
   "id": "167c0402-40f0-4bc5-93e4-251af219eae7",
   "metadata": {},
   "outputs": [
    {
     "name": "stdout",
     "output_type": "stream",
     "text": [
      "first value of list 1\n",
      "maximum number in list:- 70\n",
      "second largest number 60\n"
     ]
    }
   ],
   "source": [
    "# 12 Implement a code to find the second largest number in a given list of integers ?\n",
    "\n",
    "list1 = [ 1,2,3,4,5,60,70]\n",
    "n = list1[0]\n",
    "print('first value of list', n)\n",
    "max_num = max(list1)\n",
    "print(\"maximum number in list:-\", max_num)\n",
    "for item in list1:\n",
    "    if item < max_num and item > n+4:\n",
    "        print(\"second largest number\",item)"
   ]
  },
  {
   "cell_type": "code",
   "execution_count": 28,
   "id": "460eccf3-8247-4e8e-a956-2a024e721837",
   "metadata": {},
   "outputs": [
    {
     "name": "stdout",
     "output_type": "stream",
     "text": [
      "list with occurence element:- [1, 1, 2, 2, 3, 3, 4, 4, 5, 5, 6, 7]\n",
      "Element 1 occurs 2 times.\n",
      "Element 2 occurs 2 times.\n",
      "Element 3 occurs 2 times.\n",
      "Element 4 occurs 2 times.\n",
      "Element 5 occurs 2 times.\n",
      "Element 6 occurs 1 times.\n",
      "Element 7 occurs 1 times.\n"
     ]
    }
   ],
   "source": [
    "#13 Create a code to count the occurrencec of each element in a list and return a dictionary with elements as key and their counts as value\n",
    "list1 = [1,1,2,2,3,3,4,4,5,5,6,7]\n",
    "print(\"list with occurence element:-\", list1)\n",
    "dic = {}\n",
    "for item in list1:\n",
    "    if item in dic:\n",
    "        dic[item] +=1\n",
    "    else:\n",
    "        dic[item] = 1\n",
    "for item, count in dic.items():\n",
    "    print(f\"Element {item} occurs {count} times.\")"
   ]
  },
  {
   "cell_type": "code",
   "execution_count": 29,
   "id": "79bae0d4-0bf3-4e69-b5ad-b5c5f195b048",
   "metadata": {},
   "outputs": [
    {
     "data": {
      "text/plain": [
       "[8, 7, 6, 5, 4, 3, 2, 1]"
      ]
     },
     "execution_count": 29,
     "metadata": {},
     "output_type": "execute_result"
    }
   ],
   "source": [
    "#14 Write a code to reverse a list in-place without using an built-in reverse function\n",
    "list1 = [1,2,3,4,5,6,7,8]\n",
    "list1[::-1]"
   ]
  },
  {
   "cell_type": "code",
   "execution_count": 30,
   "id": "bcc1bc71-ca18-48d2-9434-7e338d89c55f",
   "metadata": {},
   "outputs": [
    {
     "name": "stdout",
     "output_type": "stream",
     "text": [
      "original list:- [1, 1, 2, 3, 4, 4, 5, 6, 7, 8]\n",
      "after emoving the dulicate value:- list[{1, 2, 3, 4, 5, 6, 7, 8}]\n"
     ]
    }
   ],
   "source": [
    "#15 Implement a code to find and remove duplicates from the list while preserving the original order of elements\n",
    "my_list = [1,1,2,3,4,4,5,6,7,8]\n",
    "print('original list:-', my_list)\n",
    "mylist = list[set(my_list)]\n",
    "print('after emoving the dulicate value:-', mylist)"
   ]
  },
  {
   "cell_type": "code",
   "execution_count": 36,
   "id": "dabb9dfc-b610-4dc4-9d1b-bb90e4c913a7",
   "metadata": {},
   "outputs": [
    {
     "name": "stdout",
     "output_type": "stream",
     "text": [
      "normal list:- [1, 2, 4, 5, 3, 7, 6]\n",
      "Ascending ordr:- [1, 2, 3, 4, 5, 6, 7]\n",
      "descending ordr:- [7, 6, 5, 4, 3, 2, 1] \n",
      "\n",
      "Another way\n",
      "\n",
      "The list is sorted in ascending order.\n",
      "The list is sorted in descending order.\n",
      "The list is not sorted.\n"
     ]
    }
   ],
   "source": [
    "#16 Create a code to check if a given list is sorted (either in 'asending or descending order) or not\n",
    "my_list = [1,2,4,5,3,7,6]\n",
    "print('normal list:-', my_list)\n",
    "sorted_ascending_list = set(my_list)\n",
    "sorted_ascending_list = list(sorted_ascending_list)\n",
    "print('Ascending ordr:-',sorted_ascending_list)\n",
    "sorted_descending_list = sorted_ascending_list[::-1]\n",
    "print('descending ordr:-',sorted_descending_list,'\\n')\n",
    "\n",
    "print('Another way\\n')\n",
    "\n",
    "def is_sorted(lst):\n",
    "    if lst == sorted(lst):\n",
    "        return \"The list is sorted in ascending order.\"\n",
    "    elif lst == sorted(lst, reverse=True):\n",
    "        return \"The list is sorted in descending order.\"\n",
    "    else:\n",
    "        return \"The list is not sorted.\"\n",
    "\n",
    "# Test cases\n",
    "list1 = [1, 2, 3, 4, 5]\n",
    "list2 = [5, 4, 3, 2, 1]\n",
    "list3 = [3, 1, 4, 2, 5]\n",
    "\n",
    "print(is_sorted(list1))  # Output: The list is sorted in ascending order.\n",
    "print(is_sorted(list2))  # Output: The list is sorted in descending order.\n",
    "print(is_sorted(list3))  # Output: The list is not sorted."
   ]
  },
  {
   "cell_type": "code",
   "execution_count": 37,
   "id": "69c04c4e-a776-4438-9439-ef36d1934a38",
   "metadata": {},
   "outputs": [
    {
     "name": "stdout",
     "output_type": "stream",
     "text": [
      "[1, 3, 5, 2, 4, 6]\n"
     ]
    },
    {
     "data": {
      "text/plain": [
       "[1, 2, 3, 4, 5, 6]"
      ]
     },
     "execution_count": 37,
     "metadata": {},
     "output_type": "execute_result"
    }
   ],
   "source": [
    "#17 Write a code to merge two sorted lists into a single sorted list\n",
    "list1 = [1,3,5]\n",
    "list2 = [2,4,6]\n",
    "list3 = list1 + list2\n",
    "print(list3)\n",
    "sorted(list3)"
   ]
  },
  {
   "cell_type": "code",
   "execution_count": 38,
   "id": "b0d7de9f-7277-4e67-b03f-1a3e99cc81b2",
   "metadata": {},
   "outputs": [
    {
     "name": "stdout",
     "output_type": "stream",
     "text": [
      "Intersection would be [3, 4]\n"
     ]
    }
   ],
   "source": [
    "#18 Implement a code to find the intersection of two given lists ?\n",
    "#To find the intersection of two lists, you identify the elements that are common to both lists. For example, if you have the lists [1, 2, 3, 4] and [3, 4, 5, 6], their intersection would be [3, 4] since these are the elements present in both lists.\n",
    "list1 =[1, 2, 3, 4]\n",
    "list2 = [3, 4, 5, 6]\n",
    "list3 = []\n",
    "for x in list1:\n",
    "    for y in list2:\n",
    "        if y==x:\n",
    "            list3.append(y)\n",
    "print(\"Intersection would be\",list3)"
   ]
  },
  {
   "cell_type": "code",
   "execution_count": 40,
   "id": "7ac0be5c-a127-4f4d-856f-c231752489fd",
   "metadata": {},
   "outputs": [
    {
     "data": {
      "text/plain": [
       "[1, 2, 3, 4, 5, 6]"
      ]
     },
     "execution_count": 40,
     "metadata": {},
     "output_type": "execute_result"
    }
   ],
   "source": [
    "#19 Create a code to find the union of two lists without duplicate ?\n",
    "    #To find the union of two lists without duplicates, you combine all the elements from both lists and remove any duplicates. \n",
    "    #For example, if you have the lists [1, 2, 3, 4] and [3, 4, 5, 6], the union without duplicates would be [1, 2, 3, 4, 5, 6].\n",
    "list1 =[1, 2, 3, 4]\n",
    "list2 = [3, 4, 5, 6]\n",
    "#concat the two list and store in list3'\n",
    "list3 = list1 + list2\n",
    "#covert list to set to remove all duplicate value\n",
    "s =set(list3)\n",
    "#again convert set to list\n",
    "list3 = list(s)\n",
    "list3"
   ]
  },
  {
   "cell_type": "code",
   "execution_count": 41,
   "id": "cd50e193-7c0d-4135-9ad0-c6557be7d06e",
   "metadata": {},
   "outputs": [
    {
     "name": "stdout",
     "output_type": "stream",
     "text": [
      "[3, 4, 1, 5, 2]\n"
     ]
    }
   ],
   "source": [
    "# 20 Write a code to shuffle a given list randomly without using any built-in shuffle function\n",
    "  #if you start with the list [1, 2, 3, 4, 5], you might end up with [3, 1, 5, 2, 4] after shuffling.\n",
    "    #The specific order will vary since it's random.\n",
    "    \n",
    "import random\n",
    "def simple_shuffle(input_list):\n",
    "    shuffled_list = []\n",
    "    while input_list:\n",
    "        index = random.randint(0, len(input_list) - 1)\n",
    "        shuffled_list.append(input_list.pop(index))\n",
    "    return shuffled_list\n",
    "\n",
    "# Example usage\n",
    "my_list = [1, 2, 3, 4, 5]\n",
    "shuffled_list = simple_shuffle(my_list)\n",
    "print(shuffled_list)"
   ]
  },
  {
   "cell_type": "code",
   "execution_count": 42,
   "id": "94f3b61e-90ea-413d-a3ad-e699f62db6f0",
   "metadata": {},
   "outputs": [
    {
     "name": "stdout",
     "output_type": "stream",
     "text": [
      "First tuple:---- (1, 2, 3, 4)\n",
      "---------------------------------------\n",
      "second tuple:---- (3, 4, 5, 6)\n",
      "---------------------------------------\n",
      "Common value in between two yuple which converting into sets {3, 4}\n",
      "-----------------------------------------------------------------------------\n",
      "new tuple containing elements that are common to both input tuples (3, 4)\n"
     ]
    }
   ],
   "source": [
    "#21 Write a code that takes two tuples as input and returns a new tuple containing elements that are common to both input tuples\n",
    "tuple1 = (1,2,3,4)\n",
    "print(\"First tuple:----\", tuple1)\n",
    "print(\"---------------------------------------\")\n",
    "tuple2= (3,4,5,6)\n",
    "print(\"second tuple:----\", tuple2)\n",
    "print(\"---------------------------------------\")\n",
    "#converting tuple into set\n",
    "set1 = set(tuple1)\n",
    "set2 = set(tuple2)\n",
    "set3 = set1.intersection(set2)\n",
    "print(\"Common value in between two yuple which converting into sets\",set3)\n",
    "print(\"-----------------------------------------------------------------------------\")\n",
    "#convert set into tuple\n",
    "tuple3 = tuple(set3)\n",
    "print(\"new tuple containing elements that are common to both input tuples\", tuple3)"
   ]
  },
  {
   "cell_type": "code",
   "execution_count": 43,
   "id": "eb47fcfa-552f-4140-abf4-6e8ed191a6b9",
   "metadata": {},
   "outputs": [
    {
     "data": {
      "text/plain": [
       "{3, 4, 5}"
      ]
     },
     "execution_count": 43,
     "metadata": {},
     "output_type": "execute_result"
    }
   ],
   "source": [
    " #22 Create a code that prompts the user to enter two sets of integers separated by commas. Then print the intersection of these two sets\n",
    "set1 = {1,2,3,4,5}\n",
    "set2 = {3,4,6,7,5}\n",
    "set3 = set1.intersection(set2)\n",
    "set3"
   ]
  },
  {
   "cell_type": "code",
   "execution_count": 44,
   "id": "1d46f265-5f44-4cf6-b874-8f82dd768116",
   "metadata": {},
   "outputs": [
    {
     "name": "stdout",
     "output_type": "stream",
     "text": [
      "First tuple:---- (1, 2, 3, 4)\n",
      "---------------------------------------\n",
      "second tuple:---- (3, 4, 5, 6)\n",
      "---------------------------------------\n",
      "Concatinating tuple:---- (1, 2, 3, 4, 3, 4, 5, 6)\n"
     ]
    }
   ],
   "source": [
    "#23 Write a code to concatenate two tuples. The function should take two tuples as input and return a new tuple containing elements from both input tuples\n",
    "tuple1 = (1,2,3,4)\n",
    "print(\"First tuple:----\", tuple1)\n",
    "print(\"---------------------------------------\")\n",
    "tuple2= (3,4,5,6)\n",
    "print(\"second tuple:----\", tuple2)\n",
    "print(\"---------------------------------------\")\n",
    "tuple3 = tuple1 +tuple2\n",
    "print(\"Concatinating tuple:----\", tuple3)"
   ]
  },
  {
   "cell_type": "code",
   "execution_count": 45,
   "id": "901c51ad-9627-4aad-b563-8525ba6add92",
   "metadata": {},
   "outputs": [
    {
     "name": "stdout",
     "output_type": "stream",
     "text": [
      "{1, 2, 'puneet'}\n"
     ]
    }
   ],
   "source": [
    "#24 Develop a code that prompts the user to input two sets of strings. Then print the elements that are present in the first set but not in the second sets\n",
    "set1 = {1,2,3,4,'Arun','puneet'}\n",
    "set2 = {'Arun', 3,4,'kumar'}\n",
    "set3 = set1.difference(set2)\n",
    "print(set3)"
   ]
  },
  {
   "cell_type": "code",
   "execution_count": 46,
   "id": "73d9a51d-ef9a-4d27-9c75-a50f7bfb733c",
   "metadata": {},
   "outputs": [
    {
     "data": {
      "text/plain": [
       "(30, 40, 50)"
      ]
     },
     "execution_count": 46,
     "metadata": {},
     "output_type": "execute_result"
    }
   ],
   "source": [
    "# 25 Create a code that takes a tuple and two integers as input. The function should return a new tuple containing elements from the original tuple within the specified range of indices.\n",
    "Tuple= (10, 20, 30, 40, 50, 60)\n",
    "Tuple[2:5]\n"
   ]
  },
  {
   "cell_type": "code",
   "execution_count": 47,
   "id": "f76fab52-676a-4187-9972-f0d870c0d42b",
   "metadata": {},
   "outputs": [
    {
     "name": "stdout",
     "output_type": "stream",
     "text": [
      "{'c', 'd', 'e', 'b', 'f', 'a'}\n"
     ]
    }
   ],
   "source": [
    "#26 Write a code that prompts the user to input two sets of characters. Then print the union of these two sets?\n",
    "set1 = {'a','b','c','d'}\n",
    "set2 = {'d','e','f','a'}\n",
    "set3 = set1.union(set2)\n",
    "print(set3)"
   ]
  },
  {
   "cell_type": "code",
   "execution_count": 48,
   "id": "637ba270-9a31-4f29-a4c7-65df2121b9c8",
   "metadata": {},
   "outputs": [
    {
     "name": "stdout",
     "output_type": "stream",
     "text": [
      "Minimum value from the tuple:--- 10\n",
      "Maximum value from the tuple:--- 50\n"
     ]
    }
   ],
   "source": [
    "#27  Develope a code that takes a tuple of integers as input. The function should return the maximum and minimum values from the tuple using tuple unpacking?\n",
    "my_tuple = (10,20,30,40,50)\n",
    "minimum_value = min(my_tuple)\n",
    "maximum_value = max(my_tuple)\n",
    "print(\"Minimum value from the tuple:---\",minimum_value)\n",
    "print(\"Maximum value from the tuple:---\",maximum_value)"
   ]
  },
  {
   "cell_type": "code",
   "execution_count": 49,
   "id": "feee9109-abb7-470b-bf8b-fa6d18ff2a18",
   "metadata": {},
   "outputs": [
    {
     "name": "stdout",
     "output_type": "stream",
     "text": [
      "union of two set :{40, 10, 'Puneet', 'prince', 50, 20, 'Arun', 30}\n",
      " intersection of two set:{'Arun', 20}\n",
      " difference of two sets:{10, 'Puneet', 30}\n"
     ]
    }
   ],
   "source": [
    "#28 Create a code that defines two sets of integers. Then print the union intersection and difference of these two sets\n",
    "set_one = {10,20,30,'Arun','Puneet'}\n",
    "set_two = {40,50,20,'prince','Arun'}\n",
    "union_set = set_one.union(set_two)\n",
    "intersection_set = set_one.intersection(set_two)\n",
    "difference_set = set_one.difference(set_two)\n",
    "print(f\"union of two set :{union_set}\\n intersection of two set:{intersection_set}\\n difference of two sets:{difference_set}\")"
   ]
  },
  {
   "cell_type": "code",
   "execution_count": 50,
   "id": "ed67a92c-b2da-4077-8551-6bc4458ce41f",
   "metadata": {},
   "outputs": [
    {
     "name": "stdout",
     "output_type": "stream",
     "text": [
      "count of 2:2\n",
      "count of 3:2\n",
      "count of 4:3\n"
     ]
    }
   ],
   "source": [
    "#29 Write a code that takes a tuple and an element as input. The function should return the count of occurrences of the given element in the tuple\n",
    "tuple1 = (2,3,4,4,2,3,4)\n",
    "element = [2,3,4]\n",
    "for value in element:\n",
    "    count_of_element =tuple1.count(value)\n",
    "    if(value == 2):\n",
    "        print(f\"count of 2:{count_of_element}\")\n",
    "    if(value == 3):\n",
    "        print(f\"count of 3:{count_of_element}\")\n",
    "    if(value == 4):\n",
    "        print(f\"count of 4:{count_of_element}\")"
   ]
  },
  {
   "cell_type": "code",
   "execution_count": 51,
   "id": "9c3f841e-0530-4b5d-97e9-f452179d2edf",
   "metadata": {},
   "outputs": [
    {
     "data": {
      "text/plain": [
       "{'banana', 'chiku', 'orange', 'pineapple'}"
      ]
     },
     "execution_count": 51,
     "metadata": {},
     "output_type": "execute_result"
    }
   ],
   "source": [
    "#30 Develop a code that prompts the user to input two sets of strings. Then print the symmetric difference of these two sets\n",
    "set1 = {'apple','banana','chiku', 'mango'}\n",
    "set2 = {'apple', 'orange','mango','pineapple'}\n",
    "set3 = set1.symmetric_difference(set2)\n",
    "set3"
   ]
  },
  {
   "cell_type": "code",
   "execution_count": 52,
   "id": "7a2f99d6-ef04-42dd-bbff-114bb480dc0e",
   "metadata": {},
   "outputs": [
    {
     "name": "stdin",
     "output_type": "stream",
     "text": [
      "write the input of the sets:- apple, banana, chiku\n"
     ]
    },
    {
     "name": "stdout",
     "output_type": "stream",
     "text": [
      "{'apple,': 1, 'banana,': 1, 'chiku': 1} \n",
      "\n",
      "keys:-apple,| values:-1\n",
      "keys:-banana,| values:-1\n",
      "keys:-chiku| values:-1\n"
     ]
    }
   ],
   "source": [
    "#31 Write a code that takes a list of words as input and returns a dictionary where the keys are unique words and the values are the frequencies of those words in the input list\n",
    "input_set1 = input(\"write the input of the sets:-\")\n",
    "set1 = input_set1.split()\n",
    "word_frequencies = {}\n",
    "for values in set1:\n",
    "    if values in word_frequencies:\n",
    "        word_frequencies[values] +=1\n",
    "    else:\n",
    "        word_frequencies[values] = 1\n",
    "print(word_frequencies,\"\\n\")\n",
    "for keys, valuess in word_frequencies.items():\n",
    "    print(f\"keys:-{keys}| values:-{valuess}\")"
   ]
  },
  {
   "cell_type": "code",
   "execution_count": 53,
   "id": "472b8c89-b618-4d73-85ed-e17a18b440d7",
   "metadata": {},
   "outputs": [
    {
     "name": "stdout",
     "output_type": "stream",
     "text": [
      "The merged dictionary is: {'apple': 3, 'banana': 6, 'cherry': 4, 'date': 5}\n"
     ]
    }
   ],
   "source": [
    "# 32 Write a code that takes two dictionaries as input and merges them into a single dictionary. If there are common keys the values should be added togethers\n",
    "# Example dictionaries\n",
    "dict1 = {'apple': 3, 'banana': 2, 'cherry': 1}\n",
    "dict2 = {'banana': 4, 'date': 5, 'cherry': 3}\n",
    "\n",
    "# Create a new dictionary to store the merged result\n",
    "merged_dict = dict1.copy()\n",
    "\n",
    "# Iterate through the second dictionary\n",
    "for key, value in dict2.items():\n",
    "    if key in merged_dict:\n",
    "        # If the key is common, add the values together\n",
    "        merged_dict[key] += value\n",
    "    else:\n",
    "        # If the key is not in the first dictionary, add it to the result\n",
    "        merged_dict[key] = value\n",
    "\n",
    "# Print the merged dictionary\n",
    "print(\"The merged dictionary is:\", merged_dict)"
   ]
  },
  {
   "cell_type": "code",
   "execution_count": 54,
   "id": "1a8dc7b9-ce7b-4e06-87f4-018793ba7d19",
   "metadata": {},
   "outputs": [
    {
     "name": "stdout",
     "output_type": "stream",
     "text": [
      "nested dictionary:- {'a': {'b': {'c': 32}}}\n",
      "----------------------------------------------------\n",
      "list of keys:- ['a', 'b', 'c']\n",
      "----------------------------------------------------\n",
      "common dictionary:- {'a': {'b': {'c': 32}}}\n",
      "----------------------------------------------------\n",
      "value of nested dictionary is:- 32\n"
     ]
    }
   ],
   "source": [
    "# 33 Write a code to access a value in a nested dictionary. The function should take the dictionary and a list of keys as input and return the corresponding value. If any of the keys do not exist in the dictionary the function should return None\n",
    "dic1 = {'a':{\n",
    "    'b':{\n",
    "    'c' : 32\n",
    "    }\n",
    "       }\n",
    "          }\n",
    "print(\"nested dictionary:-\",dic1)\n",
    "print(\"----------------------------------------------------\")\n",
    "list_of_keys = ['a','b','c']\n",
    "print(\"list of keys:-\", list_of_keys)\n",
    "print(\"----------------------------------------------------\")\n",
    "common_dic = dic1\n",
    "print(\"common dictionary:-\",common_dic)\n",
    "print(\"----------------------------------------------------\")\n",
    "for keys in list_of_keys:\n",
    "    if keys in common_dic:\n",
    "        common_dic = common_dic[keys]\n",
    "    else:\n",
    "        common_dic= None\n",
    "        break\n",
    "print(\"value of nested dictionary is:-\",common_dic)"
   ]
  },
  {
   "cell_type": "code",
   "execution_count": 55,
   "id": "4811aa1d-c064-4e08-b630-adb8b3a3b597",
   "metadata": {},
   "outputs": [
    {
     "name": "stdout",
     "output_type": "stream",
     "text": [
      "dictionary containing the unsorted items {'a': 1, 'b': 2, 'c': 5, 'd': 3}\n",
      "-----------------------------------------------------\n"
     ]
    },
    {
     "name": "stdin",
     "output_type": "stream",
     "text": [
      "Enter 'asc' for ascending order or 'desc' for descending order:  desc\n"
     ]
    },
    {
     "name": "stdout",
     "output_type": "stream",
     "text": [
      "{'c': 5, 'd': 3, 'b': 2, 'a': 1}\n"
     ]
    }
   ],
   "source": [
    "#34 Write a code that takes a dictionary as input and returns a sorted version of it based on the values. You can choose whether to sort in ascending or descending order\n",
    "my_dic = {'a':1,\n",
    "         'b':2,\n",
    "         'c': 5,\n",
    "         'd': 3}\n",
    "print(\"dictionary containing the unsorted items\",my_dic)\n",
    "print(\"-----------------------------------------------------\")\n",
    "order = input(\"Enter 'asc' for ascending order or 'desc' for descending order: \").strip().lower()\n",
    "if order== 'asc':\n",
    "    sort_value = dict(sorted(my_dic.items(), key= lambda item: item[1]))\n",
    "elif order == 'desc':\n",
    "    sort_value = dict(sorted(my_dic.items(), key= lambda item: item[1],reverse = True))\n",
    "else:\n",
    "    print(\"Invalid input! Defaulting to ascending order.\")\n",
    "    sorted_dict = dict(sorted(my_dict.items(), key=lambda item: item[1]))\n",
    "print(sort_value)"
   ]
  },
  {
   "cell_type": "code",
   "execution_count": 56,
   "id": "fafa8ea4-dde1-4565-b7fb-f29eb8207b53",
   "metadata": {},
   "outputs": [
    {
     "name": "stdout",
     "output_type": "stream",
     "text": [
      "{'apple': 1, 'banana': 2, 'cherry': 1, 'date': 3, 'elderberry': 2}\n",
      "--------------------------------------------------------------------\n",
      "{1: ['apple', 'cherry'], 2: ['banana', 'elderberry'], 3: ['date']}\n"
     ]
    }
   ],
   "source": [
    "# 35 Write a code that inverts a dictionary swapping keys and values. Ensure that the inverted dictionary correctly handles cases where multiple keys have the same value by storing the keys as a list in the inverted dictionary\n",
    "original_dic= {\n",
    "    'apple': 1,\n",
    "    'banana': 2,\n",
    "    'cherry': 1,\n",
    "    'date': 3,\n",
    "    'elderberry': 2\n",
    "}\n",
    "print(original_dic)\n",
    "print(\"--------------------------------------------------------------------\")\n",
    "inverted_dic = {}\n",
    "for key,value in original_dic.items():\n",
    "    if value in inverted_dic:\n",
    "        inverted_dic[value].append(key)\n",
    "    else:\n",
    "         inverted_dic[value] = [key]\n",
    "print(inverted_dic)"
   ]
  }
 ],
 "metadata": {
  "kernelspec": {
   "display_name": "Python 3 (ipykernel)",
   "language": "python",
   "name": "python3"
  },
  "language_info": {
   "codemirror_mode": {
    "name": "ipython",
    "version": 3
   },
   "file_extension": ".py",
   "mimetype": "text/x-python",
   "name": "python",
   "nbconvert_exporter": "python",
   "pygments_lexer": "ipython3",
   "version": "3.10.8"
  }
 },
 "nbformat": 4,
 "nbformat_minor": 5
}
